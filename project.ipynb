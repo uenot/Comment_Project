{
 "cells": [
  {
   "cell_type": "code",
   "execution_count": 11,
   "metadata": {
    "collapsed": false
   },
   "outputs": [
    {
     "name": "stdout",
     "output_type": "stream",
     "text": [
      "0first,1last,2U1ps,3U2ps,4U3ps,5U4ps,6U5ps,7U6ps,8U1test,9U2test,10U3test,11U4test,12U6test,13banking_project,14project_partner,15semester_exam,16collab,17focus,18outside_help\n",
      "\n"
     ]
    }
   ],
   "source": [
    "with open('teacher.csv') as f:\n",
    "    header = f.readline()\n",
    "    print(header)"
   ]
  },
  {
   "cell_type": "code",
   "execution_count": 21,
   "metadata": {
    "collapsed": false
   },
   "outputs": [
   ],
   "source": [
    "def file_open(file):\n",
    "    '''takes in file, removes header, splits rows by commas, returns list of lists with rows'''\n",
    "    students = []\n",
    "    with open(file) as f:\n",
    "        header = f.readline()\n",
    "        for line in f:\n",
    "            students.append(line.strip().split(','))\n",
    "    return students"
   ]
  },
  {
   "cell_type": "code",
   "execution_count": 22,
   "metadata": {
    "collapsed": false
   },
   "outputs": [
   ],
   "source": [
    "def testavg(student):\n",
    "    '''calculates test average for a student'''\n",
    "    testtotal = 0\n",
    "    for i in range(8,13):\n",
    "        testtotal = testtotal + student[i]\n",
    "    testavg = int((((testtotal+(2*student[15]))/7)*100)/100)\n",
    "    return testavg"
   ]
  },
  {
   "cell_type": "code",
   "execution_count": 26,
   "metadata": {
    "collapsed": false
   },
   "outputs": [
   ],
   "source": [
    "def testscores(student):\n",
    "    '''if there is an outlier in a students test scores a comment is made'''\n",
    "    tests = []\n",
    "    tests.append(student[15])\n",
    "    for i in range(8,13):\n",
    "        tests.append(student[i])\n",
    "    tests.sort()\n",
    "    lower = tests[1]-(tests[4]-tests[1])\n",
    "    upper = tests[4]+(tests[4]-tests[1])\n",
    "    comment = 'You showed consistent effort on your unit tests throughout the semester.'\n",
    "    if tests[5]-tests[0] > 15:\n",
    "        comment = 'You had a wide range in your test scores.'\n",
    "    for i in range(8,13):\n",
    "        if student[i] <= lower:\n",
    "            comment = f'You seemed struggle on your Unit {i-7} test in comparison with your other test scores.'\n",
    "            if i-7 <= 3:\n",
    "                comment += ' However, you were able to improve your understanding later in the semester.'\n",
    "            else:\n",
    "                comment += ' Perhaps it would be helpful to review the content of that unit for future use.'\n",
    "        if student[i] >= upper:\n",
    "            comment = f'You showed significant expertise on the Unit {i-7} test. I am interested to know what was different for you in that                           unit.'\n",
    "    semexamcomment = 'Your semester exam was exmplatory of your level of competence with the material, similar to your previous performance. Keep up the good work.'\n",
    "    if student[15] < (sum(tests)/6)-5:\n",
    "        semexamcomment = 'Your semester exam was alright, but I would have liked to see you show your full set of abilities and skills.'\n",
    "    if student[15] == tests[0] and student[15] < tests[1]-5:\n",
    "        semexamcomment = 'Considering your performance on the unit tests, your semester exam seemed to lack the same ability you showed previously.'\n",
    "    if student[15] == tests[5] and student[15] > tests[5]+5:\n",
    "        semexamcomment = 'You showed great improvement on your semester exam and recieved a score you can definitely be proud of.'\n",
    "    avgcomment = f'Your testing average was {testavg(student)}%.'\n",
    "    if testavg(student) > 93:\n",
    "        avgcomment += ' Great work, I am excited to see what you will do next semester. Come see me if you find yourself in need of a greater challenge.'\n",
    "    elif testavg(student) < 83:\n",
    "        avgcomment += \" Testing was a bit of a challenge, but I am sure you will perservere. Don't be afraid to come see me and ask any questions.\"\n",
    "    else:\n",
    "        avgcomment += ' You seemed to have just the right amount of challenge on tests and have the opportunity to seek out even more. Great work this semester.'\n",
    "    return f'{avgcomment} {comment} {semexamcomment}'"
   ]
  },
  {
   "cell_type": "code",
   "execution_count": 24,
   "metadata": {
    "collapsed": false
   },
   "outputs": [
   ],
   "source": [
    "def problemsetavg(student):\n",
    "    '''takes in student data, calculates average problem set score'''\n",
    "    avg=0\n",
    "    for i in range(2, 8):\n",
    "        avg+=student[i]\n",
    "    return int(avg/6)"
   ]
  },
  {
   "cell_type": "code",
   "execution_count": 27,
   "metadata": {
    "collapsed": false
   },
   "outputs": [
   ],
   "source": [
    "def problemsetscores(student):\n",
    "    '''takes in student data and comments on problem sets'''\n",
    "    sets = []\n",
    "    for i in range(2,8):\n",
    "        sets.append(student[i])\n",
    "    sets.sort()\n",
    "    lower = sets[1]-(sets[4]-sets[1])\n",
    "    upper = sets[4]+(sets[4]-sets[1])\n",
    "    comment = f'Your problem sets showed some consistent effort, with an average score of {problemsetavg(student)}. Keep improving!'\n",
    "    if sets[5]-sets[0] > 15:\n",
    "        comment = f'You recieved a wide range of scores on your problem sets, with an average score of {problemsetavg(student)}. You have shown that you have the ability to apply your knowledge well, so just stay consistent!'\n",
    "    for i in range(2,7):\n",
    "        if student[i] <= lower:\n",
    "            comment += f'You seemed to struggle most on the Unit {i-1} problem set.'\n",
    "            if i-7 <= 3 or student[i] < student:\n",
    "                comment += ' However, it seems that you were able to improve your understanding later. Good job!'\n",
    "            else:\n",
    "                comment += ' Just be sure to review the assignments when you need them!'\n",
    "        if student[i] >= upper:\n",
    "            comment = f'Your Unit {i-1} problem set recieved a significantly high score, well done. I am interested to know how you can continue at that level in the future.'\n",
    "    return f'{comment}'"
   ]
  },
  {
   "cell_type": "code",
   "execution_count": 28,
   "metadata": {
    "collapsed": false
   },
   "outputs": [
   ],
   "source": [
    "def cumulativegrade(student):\n",
    "    '''takes in student info, returns their overall grade as a float'''\n",
    "    return problemsetavg(student)*0.75+testavg(student)*0.25"
   ]
  },
  {
   "cell_type": "code",
   "execution_count": 29,
   "metadata": {
    "collapsed": false
   },
   "outputs": [
   ],
   "source": [
    "def lettergrade(student):\n",
    "    '''takes in student info, returns their overall letter grade as a string'''\n",
    "    grade = cumulativegrade(student)\n",
    "    if grade >= 92.5:\n",
    "        return 'A'\n",
    "    if grade >= 90:\n",
    "        return 'A-'\n",
    "    elif grade >= 86.5:\n",
    "        return 'B+'\n",
    "    elif grade >= 82.5:\n",
    "        return 'B'\n",
    "    elif grade >= 80:\n",
    "        return 'B-'\n",
    "    elif grade >= 76.5:\n",
    "        return 'C+'\n",
    "    elif grade >= 72.5:\n",
    "        return 'C'\n",
    "    elif grade >= 70:\n",
    "        return 'C-'\n",
    "    elif grade >= 66.5:\n",
    "        return 'D+'\n",
    "    elif grade >= 62.5:\n",
    "        return 'D'\n",
    "    elif grade >= 60:\n",
    "        return 'D-'\n",
    "    else:\n",
    "        return 'F'"
   ]
  },
  {
   "cell_type": "code",
   "execution_count": 30,
   "metadata": {
    "collapsed": false
   },
   "outputs": [
   ],
   "source": [
    "def q1grade(student):\n",
    "    '''takes in student info, returns first quarter grade as float'''\n",
    "    return (student[2]+student[3]+student[4])*0.75+(student[8]+student[9]+student[10])*0.25"
   ]
  },
  {
   "cell_type": "code",
   "execution_count": 31,
   "metadata": {
    "collapsed": false
   },
   "outputs": [
   ],
   "source": [
    "def q2grade(student):\n",
    "    '''takes in student info, returns second quarter grade as float'''\n",
    "    return (student[5]+student[6]+student[7]+student[13])*0.75+(student[11]+student[12]+(2*student[15]))*0.25"
   ]
  },
  {
   "cell_type": "code",
   "execution_count": 32,
   "metadata": {
    "collapsed": false
   },
   "outputs": [
   ],
   "source": [
    "def bankproject(student):\n",
    "    '''takes in student info, returns a string comment on the banking project'''\n",
    "    transition = 'Your'\n",
    "    # general description of banking project based on grade:\n",
    "    if student[13]>=92.5:\n",
    "        bpdesc = 'very strong'\n",
    "        codedesc = 'efficient, well-organized, and overall demonstrated a very thorough understanding'\n",
    "    elif student[13]>=80:\n",
    "        bpdesc = 'decent'\n",
    "        codedesc = 'generally solid, save for a few key errors that knocked your grade down'\n",
    "    else:\n",
    "        bpdesc = 'not great'\n",
    "        codedesc = 'lacking in many areas'\n",
    "    # description of collaboration on project based on collab rating:\n",
    "    if student[16] == 2:\n",
    "        collabdesc = 'worked together very well'\n",
    "        if bpdesc == 'not great':\n",
    "            transition = 'Despite this, your'\n",
    "    elif student[16] == 1:\n",
    "        collabdesc = 'worked together well'\n",
    "    else:\n",
    "        collabdesc = \"didn't work together as well as we might have hoped\"\n",
    "        if bpdesc != 'not great':\n",
    "            transition = 'Despite this, your'\n",
    "    \n",
    "    return f'Overall, your banking project was {bpdesc}, with a grade of {student[13]}. This project required collaboration between you and your partner, {student[14]}, and you {collabdesc}. {transition} code was {codedesc}.'"
   ]
  },
  {
   "cell_type": "code",
   "execution_count": 33,
   "metadata": {
    "collapsed": false
   },
   "outputs": [
   ],
   "source": [
    "def personality_value(student):\n",
    "    '''takes in student info, returns a rating of their personality/work ethic on a scale from 0 to 6'''\n",
    "    # necessary because students are rated on outside help on a different scale than the other two measures\n",
    "    outsidehelp_scaled = 1\n",
    "    if student[18] == 0:\n",
    "        outsidehelp_scaled = 0\n",
    "    elif student[18] == 1:\n",
    "        outsidehelp_scaled = 2\n",
    "    return student[16]+student[17]+outsidehelp_scaled"
   ]
  },
  {
   "cell_type": "code",
   "execution_count": 34,
   "metadata": {
    "collapsed": false
   },
   "outputs": [
   ],
   "source": [
    "def personality(student):\n",
    "    '''takes in student info, returns a string comment on their personality and work ethic'''\n",
    "    #general statement\n",
    "    comment = 'You were great to have in class this year, '\n",
    "    if personality_value(student) >= 4:\n",
    "        comment += 'and you used your resources and time very well overall. '\n",
    "    elif personality_value(student) >= 2:\n",
    "        comment += 'and most of the time, you were a decent contributor and learner. '\n",
    "    else:\n",
    "        comment += 'but you definitely could have made better use of your resources and time. ' \n",
    "    #sentence on collaboration\n",
    "    comment += 'Throughout the year, you '\n",
    "    if student[16] == 2:\n",
    "        comment += 'worked well with your table-mates, and were always an excellent person to share ideas with. '\n",
    "    elif student[16] ==1:\n",
    "        comment += 'were a decent collaborator, and worked in tandem with your table-mates on assignments and problem sets. '\n",
    "    else:\n",
    "        comment += 'tended to keep ideas to yourself and shy away from collaboration, '\n",
    "        if problemsetavg(student)<85:\n",
    "            comment += 'even when you could have used help on problem sets. '\n",
    "        else:\n",
    "            comment += \"although I'm sure everyone else would like to work with you and hear your ideas. \"\n",
    "    #sentence on focus\n",
    "    if student[17] == 2:\n",
    "        comment += 'You were always focused and hard-working during class, and set a good example for your peers. '\n",
    "    elif student[17] == 1:\n",
    "        comment += 'You were mostly on-task during class, although sometimes you would get distracted. '\n",
    "    else:\n",
    "        comment += 'You often got off-track during class, to the point where your actions distracted others. '\n",
    "    #sentence on outside help\n",
    "    if student[18] == 0:\n",
    "        comment += \"You didn't ever seek help outside of class, \"\n",
    "        if cumulativegrade(student)>=92.5:\n",
    "            comment += \"although, based on your grade, you didn't really need it. \"\n",
    "        else:\n",
    "            comment += \"which could definitely help you deepen your understanding and push your grade up further. \"\n",
    "    elif student[18] == 1:\n",
    "        comment += \"You consistently sought our help outside of class, which \"\n",
    "        if cumulativegrade(student)>=92.5:\n",
    "            comment += \"likely aided your strong overall grade. \"\n",
    "        else:\n",
    "            comment += \"hopefully helped your understanding. \"\n",
    "    elif student[18] == 2:\n",
    "        comment += \"You started the year by seeking help often, but this tapered off as the year went on. \"\n",
    "        #compare first and second quarter grades\n",
    "        if q1grade(student) > 3+q2grade(student):\n",
    "            comment += \"Unfortunately, this was evident in the decline of your grade between semesters. \"\n",
    "        elif q2grade(student) < 80:\n",
    "            comment += \"We wish you had come more often, so that we could help you work through the challenges you faced. \"\n",
    "        elif q1grade(student) < 3+q2grade(student):\n",
    "            comment += \"However, it seems that you took a lot away from our conversations, \"\n",
    "            if q2grade(student) >= 90:\n",
    "                comment += \"and didn't need our help as much once you got the basics down. \"\n",
    "            else:\n",
    "                comment += \"which was evident in the increase of your grade between semesters. \"\n",
    "    else:\n",
    "        comment += \"You started out by doing everything without our help, but as the year went on, you started seeking us out more for assistance. \"\n",
    "        #compare first and second quarter grades\n",
    "        if q1grade(student)+3 < q2grade(student):\n",
    "            comment += 'It seems that you took a lot away from our conversations, '\n",
    "            if q2grade(student) >= 90:\n",
    "                comment += 'which led to your excellent improvement in the second semester. '\n",
    "            else:\n",
    "                comment += 'which was evident in the increase of your grade between semesters. '\n",
    "        else:\n",
    "            if q1grade(student) > 3+q2grade(student):\n",
    "                comment += 'Unfortunately, your grade did not reflect the time we spent together, but we'\n",
    "            else:\n",
    "                comment += 'We'\n",
    "            comment += 'still appreciate you taking time to try and tackle the more challenging material. '\n",
    "    #another general sentence\n",
    "    comment += 'Overall, '\n",
    "    if personality_value(student) >= 4:\n",
    "        comment += 'we know you will be a great team member, both in this class and in any future computer science endeavors you might undertake.'\n",
    "    elif personality_value(student) >= 2:\n",
    "        comment += 'you have the potential to be great team member, both in this class and in any future computer science endeavors you might undertake.'\n",
    "    else:\n",
    "        comment += 'you have room to grow to become a strong team member of this class, but we are excited to help you get there.'\n",
    "    return comment"
   ]
  },
  {
   "cell_type": "code",
   "execution_count": 35,
   "metadata": {
    "collapsed": false
   },
   "outputs": [
   ],
   "source": [
    "def summary_comment(student):\n",
    "    '''takes in student info, returns a string summary statement'''\n",
    "    # determine if 'a' or 'an' is used in letter grade\n",
    "    if \"A\" or \"F\" in lettergrade(student):\n",
    "        comment = f\"Overall, your grade this semester was an {lettergrade(student)}. \"\n",
    "    else:\n",
    "        comment = f\"Overall, your grade this semester was a {lettergrade(student)}. \"\n",
    "    # positive statement\n",
    "    if cumulativegrade(student) >= 90:\n",
    "        comment += \"We look forwards to your continued excellence in the second semester!\"\n",
    "    elif cumulativegrade(student) >= 80:\n",
    "        comment += \"We look forwards to your growth in the second semester!\"\n",
    "    else:\n",
    "        comment += \"We hope to see your growth in the second semester!\"\n",
    "    return comment"
   ]
  },
  {
   "cell_type": "code",
   "execution_count": 41,
   "metadata": {
    "collapsed": false
   },
   "outputs": [
    {
     "ename": "TypeError",
     "evalue": "'<' not supported between instances of 'str' and 'float'",
     "output_type": "error",
     "traceback": [
      "\u001b[0;31m---------------------------------------------------------------------------\u001b[0m",
      "\u001b[0;31mTypeError\u001b[0m                                 Traceback (most recent call last)",
      "\u001b[0;32m<ipython-input-41-91f3874a17c7>\u001b[0m in \u001b[0;36m<module>\u001b[0;34m\u001b[0m\n\u001b[1;32m     13\u001b[0m \u001b[0;32mwith\u001b[0m \u001b[0mopen\u001b[0m\u001b[0;34m(\u001b[0m\u001b[0;34m'teacher.txt'\u001b[0m\u001b[0;34m)\u001b[0m \u001b[0;32mas\u001b[0m \u001b[0mf\u001b[0m\u001b[0;34m:\u001b[0m\u001b[0;34m\u001b[0m\u001b[0;34m\u001b[0m\u001b[0m\n\u001b[1;32m     14\u001b[0m     \u001b[0;32mfor\u001b[0m \u001b[0mrow\u001b[0m \u001b[0;32min\u001b[0m \u001b[0mf\u001b[0m\u001b[0;34m:\u001b[0m\u001b[0;34m\u001b[0m\u001b[0;34m\u001b[0m\u001b[0m\n\u001b[0;32m---> 15\u001b[0;31m         \u001b[0mcomment_maker\u001b[0m\u001b[0;34m(\u001b[0m\u001b[0mrow\u001b[0m\u001b[0;34m)\u001b[0m\u001b[0;34m\u001b[0m\u001b[0;34m\u001b[0m\u001b[0m\n\u001b[0m",
      "\u001b[0;32m<ipython-input-41-91f3874a17c7>\u001b[0m in \u001b[0;36mcomment_maker\u001b[0;34m(student)\u001b[0m\n\u001b[1;32m      5\u001b[0m     \u001b[0;31m# add to comment\u001b[0m\u001b[0;34m\u001b[0m\u001b[0;34m\u001b[0m\u001b[0;34m\u001b[0m\u001b[0m\n\u001b[1;32m      6\u001b[0m     \u001b[0mcomment\u001b[0m \u001b[0;34m=\u001b[0m \u001b[0;34m'This semester in Computer Science, we started by learning the basics of Python, and then moved on to applications such as graphing and customer service simulations. We assessed understanding through written tests, which demonstrate fundamental understanding, and problem sets, which tend to push students to think creatively to solve complex problems.\\n\\n'\u001b[0m\u001b[0;34m\u001b[0m\u001b[0;34m\u001b[0m\u001b[0m\n\u001b[0;32m----> 7\u001b[0;31m     \u001b[0mcomment\u001b[0m \u001b[0;34m+=\u001b[0m \u001b[0mtestscores\u001b[0m\u001b[0;34m(\u001b[0m\u001b[0mnstudent\u001b[0m\u001b[0;34m)\u001b[0m\u001b[0;34m+\u001b[0m\u001b[0;34m'\\n\\n'\u001b[0m\u001b[0;34m\u001b[0m\u001b[0;34m\u001b[0m\u001b[0m\n\u001b[0m\u001b[1;32m      8\u001b[0m     \u001b[0mcomment\u001b[0m \u001b[0;34m+=\u001b[0m \u001b[0mproblemsetscores\u001b[0m\u001b[0;34m(\u001b[0m\u001b[0mnstudent\u001b[0m\u001b[0;34m)\u001b[0m\u001b[0;34m+\u001b[0m\u001b[0;34m'\\n\\n'\u001b[0m\u001b[0;34m\u001b[0m\u001b[0;34m\u001b[0m\u001b[0m\n\u001b[1;32m      9\u001b[0m     \u001b[0mcomment\u001b[0m \u001b[0;34m+=\u001b[0m \u001b[0mbankproject\u001b[0m\u001b[0;34m(\u001b[0m\u001b[0mnstudent\u001b[0m\u001b[0;34m)\u001b[0m\u001b[0;34m+\u001b[0m\u001b[0;34m'\\n\\n'\u001b[0m\u001b[0;34m\u001b[0m\u001b[0;34m\u001b[0m\u001b[0m\n",
      "\u001b[0;32m<ipython-input-26-f168919f737e>\u001b[0m in \u001b[0;36mtestscores\u001b[0;34m(student)\u001b[0m\n\u001b[1;32m      5\u001b[0m     \u001b[0;32mfor\u001b[0m \u001b[0mi\u001b[0m \u001b[0;32min\u001b[0m \u001b[0mrange\u001b[0m\u001b[0;34m(\u001b[0m\u001b[0;36m8\u001b[0m\u001b[0;34m,\u001b[0m\u001b[0;36m13\u001b[0m\u001b[0;34m)\u001b[0m\u001b[0;34m:\u001b[0m\u001b[0;34m\u001b[0m\u001b[0;34m\u001b[0m\u001b[0m\n\u001b[1;32m      6\u001b[0m         \u001b[0mtests\u001b[0m\u001b[0;34m.\u001b[0m\u001b[0mappend\u001b[0m\u001b[0;34m(\u001b[0m\u001b[0mstudent\u001b[0m\u001b[0;34m[\u001b[0m\u001b[0mi\u001b[0m\u001b[0;34m]\u001b[0m\u001b[0;34m)\u001b[0m\u001b[0;34m\u001b[0m\u001b[0;34m\u001b[0m\u001b[0m\n\u001b[0;32m----> 7\u001b[0;31m     \u001b[0mtests\u001b[0m\u001b[0;34m.\u001b[0m\u001b[0msort\u001b[0m\u001b[0;34m(\u001b[0m\u001b[0;34m)\u001b[0m\u001b[0;34m\u001b[0m\u001b[0;34m\u001b[0m\u001b[0m\n\u001b[0m\u001b[1;32m      8\u001b[0m     \u001b[0mlower\u001b[0m \u001b[0;34m=\u001b[0m \u001b[0mtests\u001b[0m\u001b[0;34m[\u001b[0m\u001b[0;36m1\u001b[0m\u001b[0;34m]\u001b[0m\u001b[0;34m-\u001b[0m\u001b[0;34m(\u001b[0m\u001b[0mtests\u001b[0m\u001b[0;34m[\u001b[0m\u001b[0;36m4\u001b[0m\u001b[0;34m]\u001b[0m\u001b[0;34m-\u001b[0m\u001b[0mtests\u001b[0m\u001b[0;34m[\u001b[0m\u001b[0;36m1\u001b[0m\u001b[0;34m]\u001b[0m\u001b[0;34m)\u001b[0m\u001b[0;34m\u001b[0m\u001b[0;34m\u001b[0m\u001b[0m\n\u001b[1;32m      9\u001b[0m     \u001b[0mupper\u001b[0m \u001b[0;34m=\u001b[0m \u001b[0mtests\u001b[0m\u001b[0;34m[\u001b[0m\u001b[0;36m4\u001b[0m\u001b[0;34m]\u001b[0m\u001b[0;34m+\u001b[0m\u001b[0;34m(\u001b[0m\u001b[0mtests\u001b[0m\u001b[0;34m[\u001b[0m\u001b[0;36m4\u001b[0m\u001b[0;34m]\u001b[0m\u001b[0;34m-\u001b[0m\u001b[0mtests\u001b[0m\u001b[0;34m[\u001b[0m\u001b[0;36m1\u001b[0m\u001b[0;34m]\u001b[0m\u001b[0;34m)\u001b[0m\u001b[0;34m\u001b[0m\u001b[0;34m\u001b[0m\u001b[0m\n",
      "\u001b[0;31mTypeError\u001b[0m: '<' not supported between instances of 'str' and 'float'"
     ]
    }
   ],
   "source": [
    "def comment_maker(student):\n",
    "    '''takes in student info, returns a string of a full teacher comment'''\n",
    "    # ensure all numbers are floats:\n",
    "    nstudent = float_machine(student)\n",
    "    # add to comment\n",
    "    comment = 'This semester in Computer Science, we started by learning the basics of Python, and then moved on to applications such as graphing and customer service simulations. We assessed understanding through written tests, which demonstrate fundamental understanding, and problem sets, which tend to push students to think creatively to solve complex problems.\\n\\n'\n",
    "    comment += testscores(nstudent)+'\\n\\n'\n",
    "    comment += problemsetscores(nstudent)+'\\n\\n'\n",
    "    comment += bankproject(nstudent)+'\\n\\n'\n",
    "    comment += personality(nstudent)+'\\n\\n'\n",
    "    comment += summary_comment(nstudent)\n",
    "    return comment\n",
    "with open('teacher.txt') as f:\n",
    "    for row in f:\n",
    "        comment_maker(row)"
   ]
  },
  {
   "cell_type": "code",
   "execution_count": 37,
   "metadata": {
    "collapsed": false
   },
   "outputs": [
   ],
   "source": [
    "def file_writer(name, comment):\n",
    "    '''takes in a tuple with a name as a string and a comment as a string; creates/writes a text file with their name as the title and the comment as the text'''\n",
    "    with open(f'{name}.txt', 'w') as f:\n",
    "        f.write(comment)"
   ]
  },
  {
   "cell_type": "code",
   "execution_count": 38,
   "metadata": {
    "collapsed": false
   },
   "outputs": [
   ],
   "source": [
    "def float_machine(student):\n",
    "    '''takes in a list, returns a new list with all numbers converted to floats'''\n",
    "    new_student = []\n",
    "    for item in student:\n",
    "        try:\n",
    "            new_student.append(float(item))\n",
    "        except ValueError:\n",
    "            new_student.append(item)\n",
    "    return new_student"
   ]
  },
  {
   "cell_type": "code",
   "execution_count": 40,
   "metadata": {
    "collapsed": false
   },
   "outputs": [
   ],
   "source": [
    "def main(file):\n",
    "    '''Takes in a .csv file of student info, creates .txt files of comments for each student'''\n",
    "    students = file_open(file)\n",
    "    for student in students:\n",
    "        file_writer(student[0], comment_maker(student))\n",
    "        \n",
    "main('teacher.csv')"
   ]
  },
  {
   "cell_type": "code",
   "execution_count": 0,
   "metadata": {
    "collapsed": false
   },
   "outputs": [
   ],
   "source": [
   ]
  }
 ],
 "metadata": {
  "kernelspec": {
   "display_name": "Python 3 (system-wide)",
   "language": "python",
   "metadata": {
    "cocalc": {
     "description": "Python 3 programming language",
     "priority": 100,
     "url": "https://www.python.org/"
    }
   },
   "name": "python3"
  },
  "language_info": {
   "codemirror_mode": {
    "name": "ipython",
    "version": 3
   },
   "file_extension": ".py",
   "mimetype": "text/x-python",
   "name": "python",
   "nbconvert_exporter": "python",
   "pygments_lexer": "ipython3",
   "version": "3.6.9"
  }
 },
 "nbformat": 4,
 "nbformat_minor": 0
}